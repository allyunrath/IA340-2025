{
 "cells": [
  {
   "cell_type": "code",
   "execution_count": 1,
   "id": "25fc1a4c-e172-40a5-a16c-3e5b16201a94",
   "metadata": {},
   "outputs": [
    {
     "data": {
      "text/html": [
       "<div>\n",
       "<style scoped>\n",
       "    .dataframe tbody tr th:only-of-type {\n",
       "        vertical-align: middle;\n",
       "    }\n",
       "\n",
       "    .dataframe tbody tr th {\n",
       "        vertical-align: top;\n",
       "    }\n",
       "\n",
       "    .dataframe thead th {\n",
       "        text-align: right;\n",
       "    }\n",
       "</style>\n",
       "<table border=\"1\" class=\"dataframe\">\n",
       "  <thead>\n",
       "    <tr style=\"text-align: right;\">\n",
       "      <th></th>\n",
       "      <th>HTS Number</th>\n",
       "      <th>Indent</th>\n",
       "      <th>Description</th>\n",
       "      <th>Unit of Quantity</th>\n",
       "      <th>General Rate of Duty</th>\n",
       "      <th>Special Rate of Duty</th>\n",
       "      <th>Column 2 Rate of Duty</th>\n",
       "      <th>Quota Quantity</th>\n",
       "      <th>Additional Duties</th>\n",
       "    </tr>\n",
       "  </thead>\n",
       "  <tbody>\n",
       "    <tr>\n",
       "      <th>0</th>\n",
       "      <td>0101</td>\n",
       "      <td>0</td>\n",
       "      <td>Live horses, asses, mules and hinnies:</td>\n",
       "      <td>NaN</td>\n",
       "      <td>NaN</td>\n",
       "      <td>NaN</td>\n",
       "      <td>NaN</td>\n",
       "      <td>NaN</td>\n",
       "      <td>NaN</td>\n",
       "    </tr>\n",
       "    <tr>\n",
       "      <th>1</th>\n",
       "      <td>NaN</td>\n",
       "      <td>1</td>\n",
       "      <td>Horses:</td>\n",
       "      <td>NaN</td>\n",
       "      <td>NaN</td>\n",
       "      <td>NaN</td>\n",
       "      <td>NaN</td>\n",
       "      <td>NaN</td>\n",
       "      <td>NaN</td>\n",
       "    </tr>\n",
       "    <tr>\n",
       "      <th>2</th>\n",
       "      <td>0101.21.00</td>\n",
       "      <td>2</td>\n",
       "      <td>Purebred breeding animals</td>\n",
       "      <td>NaN</td>\n",
       "      <td>Free</td>\n",
       "      <td>NaN</td>\n",
       "      <td>Free</td>\n",
       "      <td>NaN</td>\n",
       "      <td>NaN</td>\n",
       "    </tr>\n",
       "    <tr>\n",
       "      <th>3</th>\n",
       "      <td>0101.21.00.10</td>\n",
       "      <td>3</td>\n",
       "      <td>Males</td>\n",
       "      <td>[\"No.\"]</td>\n",
       "      <td>NaN</td>\n",
       "      <td>NaN</td>\n",
       "      <td>NaN</td>\n",
       "      <td>NaN</td>\n",
       "      <td>NaN</td>\n",
       "    </tr>\n",
       "    <tr>\n",
       "      <th>4</th>\n",
       "      <td>0101.21.00.20</td>\n",
       "      <td>3</td>\n",
       "      <td>Females</td>\n",
       "      <td>[\"No.\"]</td>\n",
       "      <td>NaN</td>\n",
       "      <td>NaN</td>\n",
       "      <td>NaN</td>\n",
       "      <td>NaN</td>\n",
       "      <td>NaN</td>\n",
       "    </tr>\n",
       "  </tbody>\n",
       "</table>\n",
       "</div>"
      ],
      "text/plain": [
       "      HTS Number  Indent                             Description  \\\n",
       "0           0101       0  Live horses, asses, mules and hinnies:   \n",
       "1            NaN       1                                 Horses:   \n",
       "2     0101.21.00       2               Purebred breeding animals   \n",
       "3  0101.21.00.10       3                                   Males   \n",
       "4  0101.21.00.20       3                                 Females   \n",
       "\n",
       "  Unit of Quantity General Rate of Duty Special Rate of Duty  \\\n",
       "0              NaN                  NaN                  NaN   \n",
       "1              NaN                  NaN                  NaN   \n",
       "2              NaN                 Free                  NaN   \n",
       "3          [\"No.\"]                  NaN                  NaN   \n",
       "4          [\"No.\"]                  NaN                  NaN   \n",
       "\n",
       "  Column 2 Rate of Duty  Quota Quantity Additional Duties  \n",
       "0                   NaN             NaN               NaN  \n",
       "1                   NaN             NaN               NaN  \n",
       "2                  Free             NaN               NaN  \n",
       "3                   NaN             NaN               NaN  \n",
       "4                   NaN             NaN               NaN  "
      ]
     },
     "execution_count": 1,
     "metadata": {},
     "output_type": "execute_result"
    }
   ],
   "source": [
    "import warnings\n",
    "warnings.simplefilter('ignore')\n",
    "\n",
    "import pandas as pd\n",
    "\n",
    "df = pd.read_csv('s3://ia-340-2025-fall-12345678/hts_2025_revision_19_csv.csv') # load the data from s3\n",
    "df.head() #show the top 5 rows\n",
    "\n",
    "\n",
    "\n"
   ]
  },
  {
   "cell_type": "code",
   "execution_count": 2,
   "id": "75d5c2e9-2978-4bcf-b1f0-2e74b7f056c2",
   "metadata": {},
   "outputs": [
    {
     "data": {
      "text/html": [
       "<div>\n",
       "<style scoped>\n",
       "    .dataframe tbody tr th:only-of-type {\n",
       "        vertical-align: middle;\n",
       "    }\n",
       "\n",
       "    .dataframe tbody tr th {\n",
       "        vertical-align: top;\n",
       "    }\n",
       "\n",
       "    .dataframe thead th {\n",
       "        text-align: right;\n",
       "    }\n",
       "</style>\n",
       "<table border=\"1\" class=\"dataframe\">\n",
       "  <thead>\n",
       "    <tr style=\"text-align: right;\">\n",
       "      <th></th>\n",
       "      <th>HTS Number</th>\n",
       "    </tr>\n",
       "  </thead>\n",
       "  <tbody>\n",
       "    <tr>\n",
       "      <th>0</th>\n",
       "      <td>0101</td>\n",
       "    </tr>\n",
       "    <tr>\n",
       "      <th>1</th>\n",
       "      <td>NaN</td>\n",
       "    </tr>\n",
       "    <tr>\n",
       "      <th>2</th>\n",
       "      <td>0101.21.00</td>\n",
       "    </tr>\n",
       "    <tr>\n",
       "      <th>3</th>\n",
       "      <td>0101.21.00.10</td>\n",
       "    </tr>\n",
       "    <tr>\n",
       "      <th>4</th>\n",
       "      <td>0101.21.00.20</td>\n",
       "    </tr>\n",
       "    <tr>\n",
       "      <th>...</th>\n",
       "      <td>...</td>\n",
       "    </tr>\n",
       "    <tr>\n",
       "      <th>36082</th>\n",
       "      <td>9922.52.09</td>\n",
       "    </tr>\n",
       "    <tr>\n",
       "      <th>36083</th>\n",
       "      <td>9922.52.10</td>\n",
       "    </tr>\n",
       "    <tr>\n",
       "      <th>36084</th>\n",
       "      <td>NaN</td>\n",
       "    </tr>\n",
       "    <tr>\n",
       "      <th>36085</th>\n",
       "      <td>9922.52.11</td>\n",
       "    </tr>\n",
       "    <tr>\n",
       "      <th>36086</th>\n",
       "      <td>9922.52.12</td>\n",
       "    </tr>\n",
       "  </tbody>\n",
       "</table>\n",
       "<p>36087 rows × 1 columns</p>\n",
       "</div>"
      ],
      "text/plain": [
       "          HTS Number\n",
       "0               0101\n",
       "1                NaN\n",
       "2         0101.21.00\n",
       "3      0101.21.00.10\n",
       "4      0101.21.00.20\n",
       "...              ...\n",
       "36082     9922.52.09\n",
       "36083     9922.52.10\n",
       "36084            NaN\n",
       "36085     9922.52.11\n",
       "36086     9922.52.12\n",
       "\n",
       "[36087 rows x 1 columns]"
      ]
     },
     "execution_count": 2,
     "metadata": {},
     "output_type": "execute_result"
    }
   ],
   "source": [
    "df[['HTS Number']] # keep specific columns \n"
   ]
  },
  {
   "cell_type": "code",
   "execution_count": 3,
   "id": "f433c55f-2977-4df3-bfa9-202cb227311c",
   "metadata": {},
   "outputs": [
    {
     "data": {
      "text/plain": [
       "(36087, 9)"
      ]
     },
     "execution_count": 3,
     "metadata": {},
     "output_type": "execute_result"
    }
   ],
   "source": [
    "df.shape"
   ]
  },
  {
   "cell_type": "code",
   "execution_count": 4,
   "id": "ad630d4d-f71c-460e-b42d-e78010d674bf",
   "metadata": {},
   "outputs": [],
   "source": [
    "#my dataset has (36087) rows "
   ]
  },
  {
   "cell_type": "code",
   "execution_count": 5,
   "id": "c5e261da-4f15-4493-8488-8bf0bd5c8bf5",
   "metadata": {},
   "outputs": [
    {
     "data": {
      "text/html": [
       "<div>\n",
       "<style scoped>\n",
       "    .dataframe tbody tr th:only-of-type {\n",
       "        vertical-align: middle;\n",
       "    }\n",
       "\n",
       "    .dataframe tbody tr th {\n",
       "        vertical-align: top;\n",
       "    }\n",
       "\n",
       "    .dataframe thead th {\n",
       "        text-align: right;\n",
       "    }\n",
       "</style>\n",
       "<table border=\"1\" class=\"dataframe\">\n",
       "  <thead>\n",
       "    <tr style=\"text-align: right;\">\n",
       "      <th></th>\n",
       "      <th>HTS Number</th>\n",
       "      <th>Indent</th>\n",
       "      <th>Description</th>\n",
       "      <th>Unit of Quantity</th>\n",
       "      <th>General Rate of Duty</th>\n",
       "      <th>Special Rate of Duty</th>\n",
       "      <th>Column 2 Rate of Duty</th>\n",
       "      <th>Quota Quantity</th>\n",
       "      <th>Additional Duties</th>\n",
       "    </tr>\n",
       "  </thead>\n",
       "  <tbody>\n",
       "    <tr>\n",
       "      <th>0</th>\n",
       "      <td>0101</td>\n",
       "      <td>0</td>\n",
       "      <td>Live horses, asses, mules and hinnies:</td>\n",
       "      <td>NaN</td>\n",
       "      <td>NaN</td>\n",
       "      <td>NaN</td>\n",
       "      <td>NaN</td>\n",
       "      <td>NaN</td>\n",
       "      <td>NaN</td>\n",
       "    </tr>\n",
       "    <tr>\n",
       "      <th>1</th>\n",
       "      <td>NaN</td>\n",
       "      <td>1</td>\n",
       "      <td>Horses:</td>\n",
       "      <td>NaN</td>\n",
       "      <td>NaN</td>\n",
       "      <td>NaN</td>\n",
       "      <td>NaN</td>\n",
       "      <td>NaN</td>\n",
       "      <td>NaN</td>\n",
       "    </tr>\n",
       "    <tr>\n",
       "      <th>2</th>\n",
       "      <td>0101.21.00</td>\n",
       "      <td>2</td>\n",
       "      <td>Purebred breeding animals</td>\n",
       "      <td>NaN</td>\n",
       "      <td>Free</td>\n",
       "      <td>NaN</td>\n",
       "      <td>Free</td>\n",
       "      <td>NaN</td>\n",
       "      <td>NaN</td>\n",
       "    </tr>\n",
       "    <tr>\n",
       "      <th>3</th>\n",
       "      <td>0101.21.00.10</td>\n",
       "      <td>3</td>\n",
       "      <td>Males</td>\n",
       "      <td>[\"No.\"]</td>\n",
       "      <td>NaN</td>\n",
       "      <td>NaN</td>\n",
       "      <td>NaN</td>\n",
       "      <td>NaN</td>\n",
       "      <td>NaN</td>\n",
       "    </tr>\n",
       "    <tr>\n",
       "      <th>4</th>\n",
       "      <td>0101.21.00.20</td>\n",
       "      <td>3</td>\n",
       "      <td>Females</td>\n",
       "      <td>[\"No.\"]</td>\n",
       "      <td>NaN</td>\n",
       "      <td>NaN</td>\n",
       "      <td>NaN</td>\n",
       "      <td>NaN</td>\n",
       "      <td>NaN</td>\n",
       "    </tr>\n",
       "  </tbody>\n",
       "</table>\n",
       "</div>"
      ],
      "text/plain": [
       "      HTS Number  Indent                             Description  \\\n",
       "0           0101       0  Live horses, asses, mules and hinnies:   \n",
       "1            NaN       1                                 Horses:   \n",
       "2     0101.21.00       2               Purebred breeding animals   \n",
       "3  0101.21.00.10       3                                   Males   \n",
       "4  0101.21.00.20       3                                 Females   \n",
       "\n",
       "  Unit of Quantity General Rate of Duty Special Rate of Duty  \\\n",
       "0              NaN                  NaN                  NaN   \n",
       "1              NaN                  NaN                  NaN   \n",
       "2              NaN                 Free                  NaN   \n",
       "3          [\"No.\"]                  NaN                  NaN   \n",
       "4          [\"No.\"]                  NaN                  NaN   \n",
       "\n",
       "  Column 2 Rate of Duty  Quota Quantity Additional Duties  \n",
       "0                   NaN             NaN               NaN  \n",
       "1                   NaN             NaN               NaN  \n",
       "2                  Free             NaN               NaN  \n",
       "3                   NaN             NaN               NaN  \n",
       "4                   NaN             NaN               NaN  "
      ]
     },
     "execution_count": 5,
     "metadata": {},
     "output_type": "execute_result"
    }
   ],
   "source": [
    "df.head()\n",
    "#my data has more aquantities that say NaN then Free, being shwon in the first 5 rows, 36087 rows x 9 columns, numeric and text  "
   ]
  },
  {
   "cell_type": "code",
   "execution_count": 6,
   "id": "0ca35020-ee9c-4d8c-b470-82053bd7c195",
   "metadata": {},
   "outputs": [
    {
     "name": "stdout",
     "output_type": "stream",
     "text": [
      "<class 'pandas.core.frame.DataFrame'>\n",
      "RangeIndex: 36087 entries, 0 to 36086\n",
      "Data columns (total 9 columns):\n",
      " #   Column                 Non-Null Count  Dtype  \n",
      "---  ------                 --------------  -----  \n",
      " 0   HTS Number             30054 non-null  object \n",
      " 1   Indent                 36087 non-null  int64  \n",
      " 2   Description            36087 non-null  object \n",
      " 3   Unit of Quantity       19758 non-null  object \n",
      " 4   General Rate of Duty   13783 non-null  object \n",
      " 5   Special Rate of Duty   10033 non-null  object \n",
      " 6   Column 2 Rate of Duty  13424 non-null  object \n",
      " 7   Quota Quantity         0 non-null      float64\n",
      " 8   Additional Duties      512 non-null    object \n",
      "dtypes: float64(1), int64(1), object(7)\n",
      "memory usage: 2.5+ MB\n"
     ]
    }
   ],
   "source": [
    "df.info() #check for data struture \n"
   ]
  },
  {
   "cell_type": "code",
   "execution_count": 7,
   "id": "0eda31da-4dee-4756-af3a-b6c0a31c3e07",
   "metadata": {},
   "outputs": [
    {
     "data": {
      "text/plain": [
       "HTS Number                6033\n",
       "Indent                       0\n",
       "Description                  0\n",
       "Unit of Quantity         16329\n",
       "General Rate of Duty     22304\n",
       "Special Rate of Duty     26054\n",
       "Column 2 Rate of Duty    22663\n",
       "Quota Quantity           36087\n",
       "Additional Duties        35575\n",
       "dtype: int64"
      ]
     },
     "execution_count": 7,
     "metadata": {},
     "output_type": "execute_result"
    }
   ],
   "source": [
    "df.isnull().sum() #check for missing values "
   ]
  },
  {
   "cell_type": "markdown",
   "id": "526805e2-4a2d-4d5f-a7fc-17382cbd115c",
   "metadata": {},
   "source": [
    "The code shows the null values are at indent and description. I seleccted HTS number to show for colums, anf filtered them by count, length, dtype"
   ]
  },
  {
   "cell_type": "code",
   "execution_count": 8,
   "id": "f1c004ed-29b9-4a3d-b3f2-37dd2715deae",
   "metadata": {},
   "outputs": [
    {
     "data": {
      "text/plain": [
       "HTS Number\n",
       "9922.52.12       1\n",
       "0101             1\n",
       "0101.21.00       1\n",
       "0101.21.00.10    1\n",
       "0101.21.00.20    1\n",
       "                ..\n",
       "0101.90.30.00    1\n",
       "0101.90.40.00    1\n",
       "0102             1\n",
       "0102.21.00       1\n",
       "0102.21.00.10    1\n",
       "Name: count, Length: 30054, dtype: int64"
      ]
     },
     "execution_count": 8,
     "metadata": {},
     "output_type": "execute_result"
    }
   ],
   "source": [
    "df['HTS Number'].value_counts() "
   ]
  },
  {
   "cell_type": "code",
   "execution_count": 22,
   "id": "5c437cfc-99cf-460d-ab01-c5149bcfd790",
   "metadata": {},
   "outputs": [
    {
     "data": {
      "text/plain": [
       "<Axes: xlabel='HTS Number'>"
      ]
     },
     "execution_count": 22,
     "metadata": {},
     "output_type": "execute_result"
    },
    {
     "data": {
      "image/png": "[encoded data removed]",
      "text/plain": [
       "<Figure size 640x480 with 1 Axes>"
      ]
     },
     "metadata": {},
     "output_type": "display_data"
    }
   ],
   "source": [
    "sum_cases_by_percent = df.groupby('HTS Number')['Indent'].sum() #aggregate the total case number per day\n",
    "sum_cases_by_percent.head()\n",
    "sum_cases_by_percent.plot() #use a line chart to show the result"
   ]
  },
  {
   "cell_type": "markdown",
   "id": "b59a676a-53c3-48fc-9bf9-625ef0bde73c",
   "metadata": {},
   "source": [
    "the plot chart. shows the total indent values for each HTS number. The peaks shwo the highest numbers and the drops are dramatic. "
   ]
  },
  {
   "cell_type": "code",
   "execution_count": 19,
   "id": "a1a41b08-ecda-4423-81c3-6fc5560d9509",
   "metadata": {},
   "outputs": [
    {
     "data": {
      "image/png": "[encoded data removed]",
      "text/plain": [
       "<Figure size 640x480 with 1 Axes>"
      ]
     },
     "metadata": {},
     "output_type": "display_data"
    }
   ],
   "source": [
    "import pandas as pd\n",
    "import matplotlib.pyplot as plt\n",
    "\n",
    "# Group and sum 'Indent' values by HTS Number\n",
    "sum_cases_by_percent = df.groupby('HTS Number')['Indent'].sum().reset_index()\n",
    "\n",
    "# Convert HTS Number into categorical codes (so it can be plotted on X-axis)\n",
    "sum_cases_by_percent['HTS_code_num'] = sum_cases_by_percent['HTS Number'].astype('category').cat.codes\n",
    "\n",
    "# Scatter plot\n",
    "plt.scatter(sum_cases_by_percent['HTS_code_num'], sum_cases_by_percent['Indent'])\n",
    "plt.xlabel(\"HTS Number (coded)\")\n",
    "plt.ylabel(\"Total Indent\")\n",
    "plt.title(\"Scatter Plot of HTS Numbers vs Indent Sum\")\n",
    "plt.show()\n"
   ]
  },
  {
   "cell_type": "markdown",
   "id": "ebf6659f-aa9a-4960-8b1d-4e3afa2bd2e6",
   "metadata": {},
   "source": [
    "The x-axis is a coded version of those HTS Numbers. The y-axis shows the Indent value. shows different tarrif codes spread between different levels. "
   ]
  }
 ],
 "metadata": {
  "kernelspec": {
   "display_name": "conda_pytorch_p310",
   "language": "python",
   "name": "conda_pytorch_p310"
  },
  "language_info": {
   "codemirror_mode": {
    "name": "ipython",
    "version": 3
   },
   "file_extension": ".py",
   "mimetype": "text/x-python",
   "name": "python",
   "nbconvert_exporter": "python",
   "pygments_lexer": "ipython3",
   "version": "3.10.18"
  }
 },
 "nbformat": 4,
 "nbformat_minor": 5
}
